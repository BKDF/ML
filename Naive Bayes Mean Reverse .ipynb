{
 "cells": [
  {
   "cell_type": "markdown",
   "metadata": {},
   "source": [
    "# Naive Bayes Mean Reverse"
   ]
  },
  {
   "cell_type": "code",
   "execution_count": 4,
   "metadata": {},
   "outputs": [],
   "source": [
    "from quantopian.pipeline.factors import Returns"
   ]
  },
  {
   "cell_type": "code",
   "execution_count": 5,
   "metadata": {},
   "outputs": [],
   "source": [
    "def make_factors():\n",
    "    def Asset_Growth_1d():\n",
    "        return Returns(window_length=2)\n",
    "    def Asset_Growth_2d():\n",
    "        return Returns(window_length=3)\n",
    "    def Asset_Growth_3d():\n",
    "        return Returns(window_length=4)\n",
    "    def Asset_Growth_4d():\n",
    "        return Returns(window_length=5)\n",
    "    def Asset_Growth_5d():\n",
    "        return Returns(window_length=6)\n",
    "    def Asset_Growth_6d():\n",
    "        return Returns(window_length=7)\n",
    "    def Asset_Growth_7d():\n",
    "        return Returns(window_length=8)\n",
    "    def Asset_Growth_8d():\n",
    "        return Returns(window_length=9)\n",
    "    def Asset_Growth_9d():\n",
    "        return Returns(window_length=10)\n",
    "    def Asset_Growth_10d():\n",
    "        return Returns(window_length=11)\n",
    "    \n",
    "    \n",
    "    all_factors = {\n",
    "        'Asset Growth 1d': Asset_Growth_1d,\n",
    "        'Asset Growth 2d': Asset_Growth_2d,\n",
    "        'Asset Growth 3d': Asset_Growth_3d,\n",
    "        'Asset Growth 4d': Asset_Growth_4d,\n",
    "        'Asset Growth 5d': Asset_Growth_5d,\n",
    "        'Asset Growth 6d': Asset_Growth_6d,\n",
    "        'Asset Growth 7d': Asset_Growth_7d,\n",
    "        'Asset Growth 8d': Asset_Growth_8d,\n",
    "        'Asset Growth 9d': Asset_Growth_9d,\n",
    "        'Asset Growth 10d': Asset_Growth_10d\n",
    "    }     \n",
    "\n",
    "    return all_factors"
   ]
  },
  {
   "cell_type": "code",
   "execution_count": 6,
   "metadata": {},
   "outputs": [],
   "source": [
    "from quantopian.pipeline.filters import QTradableStocksUS"
   ]
  },
  {
   "cell_type": "code",
   "execution_count": 7,
   "metadata": {},
   "outputs": [
    {
     "data": {
      "text/plain": [
       "{'Asset Growth 10d': <function __main__.Asset_Growth_10d>,\n",
       " 'Asset Growth 1d': <function __main__.Asset_Growth_1d>,\n",
       " 'Asset Growth 2d': <function __main__.Asset_Growth_2d>,\n",
       " 'Asset Growth 3d': <function __main__.Asset_Growth_3d>,\n",
       " 'Asset Growth 4d': <function __main__.Asset_Growth_4d>,\n",
       " 'Asset Growth 5d': <function __main__.Asset_Growth_5d>,\n",
       " 'Asset Growth 6d': <function __main__.Asset_Growth_6d>,\n",
       " 'Asset Growth 7d': <function __main__.Asset_Growth_7d>,\n",
       " 'Asset Growth 8d': <function __main__.Asset_Growth_8d>,\n",
       " 'Asset Growth 9d': <function __main__.Asset_Growth_9d>}"
      ]
     },
     "execution_count": 7,
     "metadata": {},
     "output_type": "execute_result"
    }
   ],
   "source": [
    "universe = QTradableStocksUS()\n",
    "\n",
    "factors = make_factors()\n",
    "\n",
    "factors"
   ]
  },
  {
   "cell_type": "code",
   "execution_count": 8,
   "metadata": {},
   "outputs": [
    {
     "name": "stdout",
     "output_type": "stream",
     "text": [
      "Asset Growth 4d <function Asset_Growth_4d at 0x7fb4e3b95050>\n",
      "Asset Growth 3d <function Asset_Growth_3d at 0x7fb4e3c11500>\n",
      "Asset Growth 5d <function Asset_Growth_5d at 0x7fb4e3b950c8>\n",
      "Asset Growth 8d <function Asset_Growth_8d at 0x7fb4e3b95230>\n",
      "Asset Growth 7d <function Asset_Growth_7d at 0x7fb4e3b951b8>\n",
      "Asset Growth 2d <function Asset_Growth_2d at 0x7fb4e3c11aa0>\n",
      "Asset Growth 9d <function Asset_Growth_9d at 0x7fb4e3b952a8>\n",
      "Asset Growth 10d <function Asset_Growth_10d at 0x7fb4e3b95320>\n",
      "Asset Growth 6d <function Asset_Growth_6d at 0x7fb4e3b95140>\n",
      "Asset Growth 1d <function Asset_Growth_1d at 0x7fb4e3c05f50>\n"
     ]
    }
   ],
   "source": [
    " for name, f in factors.iteritems():\n",
    "        print name,f"
   ]
  },
  {
   "cell_type": "code",
   "execution_count": 9,
   "metadata": {},
   "outputs": [
    {
     "data": {
      "text/plain": [
       "5"
      ]
     },
     "execution_count": 9,
     "metadata": {},
     "output_type": "execute_result"
    }
   ],
   "source": [
    "n_fwd_days = 5 # number of days to compute returns over\n",
    "\n",
    "n_fwd_days"
   ]
  },
  {
   "cell_type": "code",
   "execution_count": 10,
   "metadata": {},
   "outputs": [],
   "source": [
    "from quantopian.pipeline.data.builtin import USEquityPricing\n",
    "from quantopian.pipeline import Pipeline"
   ]
  },
  {
   "cell_type": "code",
   "execution_count": 11,
   "metadata": {},
   "outputs": [],
   "source": [
    "\n",
    "def make_history_pipeline(factors, universe, n_fwd_days=5):\n",
    "    # Call .rank() on all factors and mask out the universe\n",
    "    factor_ranks = {name: f() for name, f in factors.iteritems()}\n",
    "    # Get cumulative returns over last n_fwd_days days. We will later shift these.\n",
    "    factor_ranks['Returns'] = Returns(window_length=n_fwd_days)\n",
    "    \n",
    "    print factor_ranks['Returns']\n",
    "    pipe = Pipeline(screen=universe, columns=factor_ranks)\n",
    "    \n",
    "    return pipe"
   ]
  },
  {
   "cell_type": "code",
   "execution_count": 12,
   "metadata": {},
   "outputs": [
    {
     "name": "stdout",
     "output_type": "stream",
     "text": [
      "Returns([USEquityPricing.close], 5)\n"
     ]
    },
    {
     "data": {
      "text/plain": [
       "<zipline.pipeline.pipeline.Pipeline at 0x7fb4eb1d1d88>"
      ]
     },
     "execution_count": 12,
     "metadata": {},
     "output_type": "execute_result"
    }
   ],
   "source": [
    "history_pipe = make_history_pipeline(factors, universe, n_fwd_days=n_fwd_days)\n",
    "\n",
    "history_pipe"
   ]
  },
  {
   "cell_type": "code",
   "execution_count": 13,
   "metadata": {},
   "outputs": [],
   "source": [
    "from time import time\n",
    "import pandas as pd\n",
    "from quantopian.research import run_pipeline"
   ]
  },
  {
   "cell_type": "code",
   "execution_count": 14,
   "metadata": {},
   "outputs": [],
   "source": [
    "start_timer = time()\n",
    "start = pd.Timestamp(\"2018-07-24\")\n",
    "end = pd.Timestamp(\"2018-09-24\")\n",
    "results = run_pipeline(history_pipe, start_date=start, end_date=end)\n",
    "results.index.names = ['date', 'security']\n",
    "end_timer = time()"
   ]
  },
  {
   "cell_type": "code",
   "execution_count": 47,
   "metadata": {},
   "outputs": [
    {
     "name": "stdout",
     "output_type": "stream",
     "text": [
      "Time to run pipeline 1.81 secs\n"
     ]
    }
   ],
   "source": [
    "print \"Time to run pipeline %.2f secs\" % (end_timer - start_timer)"
   ]
  },
  {
   "cell_type": "code",
   "execution_count": 48,
   "metadata": {},
   "outputs": [
    {
     "data": {
      "text/html": [
       "<div>\n",
       "<table border=\"1\" class=\"dataframe\">\n",
       "  <thead>\n",
       "    <tr style=\"text-align: right;\">\n",
       "      <th></th>\n",
       "      <th></th>\n",
       "      <th>Asset Growth 10d</th>\n",
       "      <th>Asset Growth 11d</th>\n",
       "      <th>Asset Growth 1d</th>\n",
       "      <th>Asset Growth 2d</th>\n",
       "      <th>Asset Growth 3d</th>\n",
       "      <th>Asset Growth 4d</th>\n",
       "      <th>Asset Growth 5d</th>\n",
       "      <th>Asset Growth 6d</th>\n",
       "      <th>Asset Growth 7d</th>\n",
       "      <th>Asset Growth 8d</th>\n",
       "      <th>Asset Growth 9d</th>\n",
       "      <th>Returns</th>\n",
       "    </tr>\n",
       "    <tr>\n",
       "      <th>date</th>\n",
       "      <th>security</th>\n",
       "      <th></th>\n",
       "      <th></th>\n",
       "      <th></th>\n",
       "      <th></th>\n",
       "      <th></th>\n",
       "      <th></th>\n",
       "      <th></th>\n",
       "      <th></th>\n",
       "      <th></th>\n",
       "      <th></th>\n",
       "      <th></th>\n",
       "      <th></th>\n",
       "    </tr>\n",
       "  </thead>\n",
       "  <tbody>\n",
       "    <tr>\n",
       "      <th rowspan=\"5\" valign=\"top\">2018-07-24 00:00:00+00:00</th>\n",
       "      <th>Equity(2 [ARNC])</th>\n",
       "      <td>0.069859</td>\n",
       "      <td>0.067754</td>\n",
       "      <td>-0.001840</td>\n",
       "      <td>-0.001840</td>\n",
       "      <td>-0.009390</td>\n",
       "      <td>-0.035551</td>\n",
       "      <td>-0.013506</td>\n",
       "      <td>-0.010937</td>\n",
       "      <td>0.092635</td>\n",
       "      <td>0.097688</td>\n",
       "      <td>0.110526</td>\n",
       "      <td>-0.013506</td>\n",
       "    </tr>\n",
       "    <tr>\n",
       "      <th>Equity(24 [AAPL])</th>\n",
       "      <td>0.006567</td>\n",
       "      <td>0.005299</td>\n",
       "      <td>-0.000365</td>\n",
       "      <td>-0.000365</td>\n",
       "      <td>-0.002083</td>\n",
       "      <td>0.006303</td>\n",
       "      <td>0.000679</td>\n",
       "      <td>0.003562</td>\n",
       "      <td>0.001411</td>\n",
       "      <td>0.002984</td>\n",
       "      <td>0.019529</td>\n",
       "      <td>0.000679</td>\n",
       "    </tr>\n",
       "    <tr>\n",
       "      <th>Equity(41 [ARCB])</th>\n",
       "      <td>0.029252</td>\n",
       "      <td>0.014957</td>\n",
       "      <td>0.018221</td>\n",
       "      <td>0.018221</td>\n",
       "      <td>0.016043</td>\n",
       "      <td>0.040526</td>\n",
       "      <td>0.060268</td>\n",
       "      <td>0.096998</td>\n",
       "      <td>0.068616</td>\n",
       "      <td>0.076487</td>\n",
       "      <td>0.074661</td>\n",
       "      <td>0.060268</td>\n",
       "    </tr>\n",
       "    <tr>\n",
       "      <th>Equity(52 [ABM])</th>\n",
       "      <td>-0.033992</td>\n",
       "      <td>-0.028962</td>\n",
       "      <td>-0.003673</td>\n",
       "      <td>-0.003673</td>\n",
       "      <td>-0.006327</td>\n",
       "      <td>0.007087</td>\n",
       "      <td>0.017042</td>\n",
       "      <td>-0.010282</td>\n",
       "      <td>-0.049076</td>\n",
       "      <td>-0.038660</td>\n",
       "      <td>-0.030224</td>\n",
       "      <td>0.017042</td>\n",
       "    </tr>\n",
       "    <tr>\n",
       "      <th>Equity(53 [ABMD])</th>\n",
       "      <td>0.064250</td>\n",
       "      <td>0.055338</td>\n",
       "      <td>0.017758</td>\n",
       "      <td>0.017758</td>\n",
       "      <td>0.012189</td>\n",
       "      <td>-0.001413</td>\n",
       "      <td>0.008494</td>\n",
       "      <td>0.027830</td>\n",
       "      <td>0.029500</td>\n",
       "      <td>0.039556</td>\n",
       "      <td>0.067334</td>\n",
       "      <td>0.008494</td>\n",
       "    </tr>\n",
       "  </tbody>\n",
       "</table>\n",
       "</div>"
      ],
      "text/plain": [
       "                                             Asset Growth 10d  \\\n",
       "date                      security                              \n",
       "2018-07-24 00:00:00+00:00 Equity(2 [ARNC])           0.069859   \n",
       "                          Equity(24 [AAPL])          0.006567   \n",
       "                          Equity(41 [ARCB])          0.029252   \n",
       "                          Equity(52 [ABM])          -0.033992   \n",
       "                          Equity(53 [ABMD])          0.064250   \n",
       "\n",
       "                                             Asset Growth 11d  \\\n",
       "date                      security                              \n",
       "2018-07-24 00:00:00+00:00 Equity(2 [ARNC])           0.067754   \n",
       "                          Equity(24 [AAPL])          0.005299   \n",
       "                          Equity(41 [ARCB])          0.014957   \n",
       "                          Equity(52 [ABM])          -0.028962   \n",
       "                          Equity(53 [ABMD])          0.055338   \n",
       "\n",
       "                                             Asset Growth 1d  Asset Growth 2d  \\\n",
       "date                      security                                              \n",
       "2018-07-24 00:00:00+00:00 Equity(2 [ARNC])         -0.001840        -0.001840   \n",
       "                          Equity(24 [AAPL])        -0.000365        -0.000365   \n",
       "                          Equity(41 [ARCB])         0.018221         0.018221   \n",
       "                          Equity(52 [ABM])         -0.003673        -0.003673   \n",
       "                          Equity(53 [ABMD])         0.017758         0.017758   \n",
       "\n",
       "                                             Asset Growth 3d  Asset Growth 4d  \\\n",
       "date                      security                                              \n",
       "2018-07-24 00:00:00+00:00 Equity(2 [ARNC])         -0.009390        -0.035551   \n",
       "                          Equity(24 [AAPL])        -0.002083         0.006303   \n",
       "                          Equity(41 [ARCB])         0.016043         0.040526   \n",
       "                          Equity(52 [ABM])         -0.006327         0.007087   \n",
       "                          Equity(53 [ABMD])         0.012189        -0.001413   \n",
       "\n",
       "                                             Asset Growth 5d  Asset Growth 6d  \\\n",
       "date                      security                                              \n",
       "2018-07-24 00:00:00+00:00 Equity(2 [ARNC])         -0.013506        -0.010937   \n",
       "                          Equity(24 [AAPL])         0.000679         0.003562   \n",
       "                          Equity(41 [ARCB])         0.060268         0.096998   \n",
       "                          Equity(52 [ABM])          0.017042        -0.010282   \n",
       "                          Equity(53 [ABMD])         0.008494         0.027830   \n",
       "\n",
       "                                             Asset Growth 7d  Asset Growth 8d  \\\n",
       "date                      security                                              \n",
       "2018-07-24 00:00:00+00:00 Equity(2 [ARNC])          0.092635         0.097688   \n",
       "                          Equity(24 [AAPL])         0.001411         0.002984   \n",
       "                          Equity(41 [ARCB])         0.068616         0.076487   \n",
       "                          Equity(52 [ABM])         -0.049076        -0.038660   \n",
       "                          Equity(53 [ABMD])         0.029500         0.039556   \n",
       "\n",
       "                                             Asset Growth 9d   Returns  \n",
       "date                      security                                      \n",
       "2018-07-24 00:00:00+00:00 Equity(2 [ARNC])          0.110526 -0.013506  \n",
       "                          Equity(24 [AAPL])         0.019529  0.000679  \n",
       "                          Equity(41 [ARCB])         0.074661  0.060268  \n",
       "                          Equity(52 [ABM])         -0.030224  0.017042  \n",
       "                          Equity(53 [ABMD])         0.067334  0.008494  "
      ]
     },
     "execution_count": 48,
     "metadata": {},
     "output_type": "execute_result"
    }
   ],
   "source": [
    "results.head()"
   ]
  },
  {
   "cell_type": "code",
   "execution_count": 14,
   "metadata": {},
   "outputs": [
    {
     "data": {
      "text/html": [
       "<div>\n",
       "<table border=\"1\" class=\"dataframe\">\n",
       "  <thead>\n",
       "    <tr style=\"text-align: right;\">\n",
       "      <th></th>\n",
       "      <th></th>\n",
       "      <th>Asset Growth 10d</th>\n",
       "      <th>Asset Growth 11d</th>\n",
       "      <th>Asset Growth 2d</th>\n",
       "      <th>Asset Growth 3d</th>\n",
       "      <th>Asset Growth 4d</th>\n",
       "      <th>Asset Growth 5d</th>\n",
       "      <th>Asset Growth 6d</th>\n",
       "      <th>Asset Growth 7d</th>\n",
       "      <th>Asset Growth 8d</th>\n",
       "      <th>Asset Growth 9d</th>\n",
       "      <th>Returns</th>\n",
       "    </tr>\n",
       "    <tr>\n",
       "      <th>date</th>\n",
       "      <th>security</th>\n",
       "      <th></th>\n",
       "      <th></th>\n",
       "      <th></th>\n",
       "      <th></th>\n",
       "      <th></th>\n",
       "      <th></th>\n",
       "      <th></th>\n",
       "      <th></th>\n",
       "      <th></th>\n",
       "      <th></th>\n",
       "      <th></th>\n",
       "    </tr>\n",
       "  </thead>\n",
       "  <tbody>\n",
       "    <tr>\n",
       "      <th rowspan=\"5\" valign=\"top\">2018-09-24 00:00:00+00:00</th>\n",
       "      <th>Equity(51542 [DNLI])</th>\n",
       "      <td>0.145822</td>\n",
       "      <td>0.183305</td>\n",
       "      <td>0.004789</td>\n",
       "      <td>0.026921</td>\n",
       "      <td>0.024915</td>\n",
       "      <td>0.120726</td>\n",
       "      <td>0.075897</td>\n",
       "      <td>0.155286</td>\n",
       "      <td>0.142079</td>\n",
       "      <td>0.137744</td>\n",
       "      <td>0.120726</td>\n",
       "    </tr>\n",
       "    <tr>\n",
       "      <th>Equity(51576 [CASA])</th>\n",
       "      <td>0.074934</td>\n",
       "      <td>0.085733</td>\n",
       "      <td>-0.006740</td>\n",
       "      <td>-0.005521</td>\n",
       "      <td>0.018216</td>\n",
       "      <td>0.034461</td>\n",
       "      <td>0.025300</td>\n",
       "      <td>0.008712</td>\n",
       "      <td>0.037108</td>\n",
       "      <td>0.056714</td>\n",
       "      <td>0.034461</td>\n",
       "    </tr>\n",
       "    <tr>\n",
       "      <th>Equity(51580 [NMRK])</th>\n",
       "      <td>-0.078112</td>\n",
       "      <td>-0.081848</td>\n",
       "      <td>0.034703</td>\n",
       "      <td>0.046168</td>\n",
       "      <td>0.027199</td>\n",
       "      <td>0.014324</td>\n",
       "      <td>-0.016493</td>\n",
       "      <td>-0.029966</td>\n",
       "      <td>-0.053467</td>\n",
       "      <td>-0.058188</td>\n",
       "      <td>0.014324</td>\n",
       "    </tr>\n",
       "    <tr>\n",
       "      <th>Equity(51615 [LILA_K])</th>\n",
       "      <td>0.072637</td>\n",
       "      <td>0.077461</td>\n",
       "      <td>0.000000</td>\n",
       "      <td>0.003257</td>\n",
       "      <td>0.034549</td>\n",
       "      <td>0.054279</td>\n",
       "      <td>0.063641</td>\n",
       "      <td>0.038036</td>\n",
       "      <td>0.054279</td>\n",
       "      <td>0.080160</td>\n",
       "      <td>0.054279</td>\n",
       "    </tr>\n",
       "    <tr>\n",
       "      <th>Equity(51618 [NTR])</th>\n",
       "      <td>0.035449</td>\n",
       "      <td>0.044327</td>\n",
       "      <td>-0.009858</td>\n",
       "      <td>-0.023204</td>\n",
       "      <td>-0.019860</td>\n",
       "      <td>-0.010372</td>\n",
       "      <td>0.022687</td>\n",
       "      <td>0.014172</td>\n",
       "      <td>0.017235</td>\n",
       "      <td>0.022869</td>\n",
       "      <td>-0.010372</td>\n",
       "    </tr>\n",
       "  </tbody>\n",
       "</table>\n",
       "</div>"
      ],
      "text/plain": [
       "                                                  Asset Growth 10d  \\\n",
       "date                      security                                   \n",
       "2018-09-24 00:00:00+00:00 Equity(51542 [DNLI])            0.145822   \n",
       "                          Equity(51576 [CASA])            0.074934   \n",
       "                          Equity(51580 [NMRK])           -0.078112   \n",
       "                          Equity(51615 [LILA_K])          0.072637   \n",
       "                          Equity(51618 [NTR])             0.035449   \n",
       "\n",
       "                                                  Asset Growth 11d  \\\n",
       "date                      security                                   \n",
       "2018-09-24 00:00:00+00:00 Equity(51542 [DNLI])            0.183305   \n",
       "                          Equity(51576 [CASA])            0.085733   \n",
       "                          Equity(51580 [NMRK])           -0.081848   \n",
       "                          Equity(51615 [LILA_K])          0.077461   \n",
       "                          Equity(51618 [NTR])             0.044327   \n",
       "\n",
       "                                                  Asset Growth 2d  \\\n",
       "date                      security                                  \n",
       "2018-09-24 00:00:00+00:00 Equity(51542 [DNLI])           0.004789   \n",
       "                          Equity(51576 [CASA])          -0.006740   \n",
       "                          Equity(51580 [NMRK])           0.034703   \n",
       "                          Equity(51615 [LILA_K])         0.000000   \n",
       "                          Equity(51618 [NTR])           -0.009858   \n",
       "\n",
       "                                                  Asset Growth 3d  \\\n",
       "date                      security                                  \n",
       "2018-09-24 00:00:00+00:00 Equity(51542 [DNLI])           0.026921   \n",
       "                          Equity(51576 [CASA])          -0.005521   \n",
       "                          Equity(51580 [NMRK])           0.046168   \n",
       "                          Equity(51615 [LILA_K])         0.003257   \n",
       "                          Equity(51618 [NTR])           -0.023204   \n",
       "\n",
       "                                                  Asset Growth 4d  \\\n",
       "date                      security                                  \n",
       "2018-09-24 00:00:00+00:00 Equity(51542 [DNLI])           0.024915   \n",
       "                          Equity(51576 [CASA])           0.018216   \n",
       "                          Equity(51580 [NMRK])           0.027199   \n",
       "                          Equity(51615 [LILA_K])         0.034549   \n",
       "                          Equity(51618 [NTR])           -0.019860   \n",
       "\n",
       "                                                  Asset Growth 5d  \\\n",
       "date                      security                                  \n",
       "2018-09-24 00:00:00+00:00 Equity(51542 [DNLI])           0.120726   \n",
       "                          Equity(51576 [CASA])           0.034461   \n",
       "                          Equity(51580 [NMRK])           0.014324   \n",
       "                          Equity(51615 [LILA_K])         0.054279   \n",
       "                          Equity(51618 [NTR])           -0.010372   \n",
       "\n",
       "                                                  Asset Growth 6d  \\\n",
       "date                      security                                  \n",
       "2018-09-24 00:00:00+00:00 Equity(51542 [DNLI])           0.075897   \n",
       "                          Equity(51576 [CASA])           0.025300   \n",
       "                          Equity(51580 [NMRK])          -0.016493   \n",
       "                          Equity(51615 [LILA_K])         0.063641   \n",
       "                          Equity(51618 [NTR])            0.022687   \n",
       "\n",
       "                                                  Asset Growth 7d  \\\n",
       "date                      security                                  \n",
       "2018-09-24 00:00:00+00:00 Equity(51542 [DNLI])           0.155286   \n",
       "                          Equity(51576 [CASA])           0.008712   \n",
       "                          Equity(51580 [NMRK])          -0.029966   \n",
       "                          Equity(51615 [LILA_K])         0.038036   \n",
       "                          Equity(51618 [NTR])            0.014172   \n",
       "\n",
       "                                                  Asset Growth 8d  \\\n",
       "date                      security                                  \n",
       "2018-09-24 00:00:00+00:00 Equity(51542 [DNLI])           0.142079   \n",
       "                          Equity(51576 [CASA])           0.037108   \n",
       "                          Equity(51580 [NMRK])          -0.053467   \n",
       "                          Equity(51615 [LILA_K])         0.054279   \n",
       "                          Equity(51618 [NTR])            0.017235   \n",
       "\n",
       "                                                  Asset Growth 9d   Returns  \n",
       "date                      security                                           \n",
       "2018-09-24 00:00:00+00:00 Equity(51542 [DNLI])           0.137744  0.120726  \n",
       "                          Equity(51576 [CASA])           0.056714  0.034461  \n",
       "                          Equity(51580 [NMRK])          -0.058188  0.014324  \n",
       "                          Equity(51615 [LILA_K])         0.080160  0.054279  \n",
       "                          Equity(51618 [NTR])            0.022869 -0.010372  "
      ]
     },
     "execution_count": 14,
     "metadata": {},
     "output_type": "execute_result"
    }
   ],
   "source": [
    "results.tail()"
   ]
  },
  {
   "cell_type": "code",
   "execution_count": 15,
   "metadata": {},
   "outputs": [],
   "source": [
    "def shift_mask_data(X, Y, upper_percentile=90, lower_percentile=10, n_fwd_days=1):\n",
    "    # Shift X to match factors at t to returns at t+n_fwd_days (we want to predict future returns after all)\n",
    "    shifted_X = np.roll(X, n_fwd_days+1, axis=0)\n",
    "    \n",
    "    # Slice off rolled elements\n",
    "    X = shifted_X[n_fwd_days+1:]\n",
    "    Y = Y[n_fwd_days+1:]\n",
    "    \n",
    "    n_time, n_stocks, n_factors = X.shape\n",
    "    \n",
    "    # Look for biggest up and down movers\n",
    "    upper = np.nanpercentile(Y, upper_percentile, axis=1)[:, np.newaxis]\n",
    "    lower = np.nanpercentile(Y, lower_percentile, axis=1)[:, np.newaxis]\n",
    "  \n",
    "    upper_mask = (Y >= upper)\n",
    "    lower_mask = (Y <= lower)\n",
    "    \n",
    "    mask = upper_mask | lower_mask # This also drops nans\n",
    "    mask = mask.flatten()\n",
    "    \n",
    "    # Only try to predict whether a stock moved up/down relative to other stocks\n",
    "    Y_binary = np.zeros(n_time * n_stocks)\n",
    "    Y_binary[upper_mask.flatten()] = 1\n",
    "    Y_binary[lower_mask.flatten()] = -1\n",
    "    \n",
    "    # Flatten X\n",
    "    X = X.reshape((n_time * n_stocks, n_factors))\n",
    "\n",
    "    # Drop stocks that did not move much (i.e. are in the 30th to 70th percentile)\n",
    "    X = X[mask]\n",
    "    Y_binary = Y_binary[mask]\n",
    "    \n",
    "    return X, Y_binary"
   ]
  },
  {
   "cell_type": "code",
   "execution_count": null,
   "metadata": {},
   "outputs": [],
   "source": [
    "# Massage data to be in the form expected by shift_mask_data()\n",
    "results_wo_returns = results.copy()\n",
    "returns = results_wo_returns.pop('Returns')\n",
    "Y = returns.unstack().values\n",
    "X = results_wo_returns.to_panel() \n",
    "X = X.swapaxes(2, 0).swapaxes(0, 1).values # (factors, time, stocks) -> (time, stocks, factors)"
   ]
  },
  {
   "cell_type": "code",
   "execution_count": null,
   "metadata": {},
   "outputs": [],
   "source": [
    "results_wo_returns.index = results_wo_returns.index.set_levels(results_wo_returns.index.get_level_values(1).map(lambda x: x.symbol), 1, )"
   ]
  },
  {
   "cell_type": "code",
   "execution_count": null,
   "metadata": {},
   "outputs": [],
   "source": [
    "results_wo_returns.index = results_wo_returns.index.set_levels(results_wo_returns.index.get_level_values(0).map(lambda x: x.date), 0, )"
   ]
  },
  {
   "cell_type": "code",
   "execution_count": null,
   "metadata": {},
   "outputs": [],
   "source": [
    "results_wo_returns.sample(10).sort()"
   ]
  },
  {
   "cell_type": "code",
   "execution_count": null,
   "metadata": {},
   "outputs": [],
   "source": [
    "tmp = (returns > 0.).to_frame()\n",
    "tmp.index = tmp.index.set_levels(tmp.index.get_level_values(1).map(lambda x: x.symbol), 1)\n",
    "tmp.columns = ['5-day forward returns > 0']\n",
    "tmp.sample(10).sort()"
   ]
  },
  {
   "cell_type": "code",
   "execution_count": null,
   "metadata": {},
   "outputs": [],
   "source": [
    "# Train-test split\n",
    "train_size_perc = 0.8\n",
    "n_time, n_stocks, n_factors = X.shape\n",
    "train_size = np.int16(np.round(train_size_perc * n_time))\n",
    "X_train, Y_train = X[:train_size, ...], Y[:train_size]\n",
    "X_test, Y_test = X[(train_size+n_fwd_days):, ...], Y[(train_size+n_fwd_days):]"
   ]
  },
  {
   "cell_type": "code",
   "execution_count": null,
   "metadata": {},
   "outputs": [],
   "source": [
    "X_train_shift, Y_train_shift = shift_mask_data(X_train, Y_train, n_fwd_days=n_fwd_days)\n",
    "X_test_shift, Y_test_shift = shift_mask_data(X_test, Y_test, n_fwd_days=n_fwd_days, \n",
    "                                             lower_percentile=50, \n",
    "                                             upper_percentile=50)"
   ]
  },
  {
   "cell_type": "code",
   "execution_count": null,
   "metadata": {},
   "outputs": [],
   "source": [
    "X_train_shift.shape, X_test_shift.shape"
   ]
  },
  {
   "cell_type": "code",
   "execution_count": null,
   "metadata": {},
   "outputs": [],
   "source": [
    "start_timer = time()\n",
    "\n",
    "# Train classifier\n",
    "from sklearn.naive_bayes import GaussianNB\n",
    "clf = GaussianNB()\n",
    "clf.fit(X_train_shift, Y_train_shift);\n",
    "\n",
    "end_timer = time()"
   ]
  },
  {
   "cell_type": "code",
   "execution_count": null,
   "metadata": {},
   "outputs": [],
   "source": [
    "print \"Time to train full ML pipline: %0.2f secs\" % (end_timer - start_timer)"
   ]
  },
  {
   "cell_type": "code",
   "execution_count": null,
   "metadata": {},
   "outputs": [],
   "source": [
    "Y_pred = clf.predict(X_train_trans)\n",
    "print('Accuracy on train set = {:.2f}%'.format(metrics.accuracy_score(Y_train_shift, Y_pred) * 100))"
   ]
  }
 ],
 "metadata": {
  "kernelspec": {
   "display_name": "Python 2",
   "language": "python",
   "name": "python2"
  },
  "language_info": {
   "codemirror_mode": {
    "name": "ipython",
    "version": 2
   },
   "file_extension": ".py",
   "mimetype": "text/x-python",
   "name": "python",
   "nbconvert_exporter": "python",
   "pygments_lexer": "ipython2",
   "version": "2.7.12"
  }
 },
 "nbformat": 4,
 "nbformat_minor": 2
}
