{
 "cells": [
  {
   "cell_type": "code",
   "execution_count": null,
   "metadata": {},
   "outputs": [],
   "source": [
    "from quantopian.research import returns, prices, symbols"
   ]
  },
  {
   "cell_type": "code",
   "execution_count": 13,
   "metadata": {},
   "outputs": [
    {
     "data": {
      "text/plain": [
       "2018-07-11 00:00:00+00:00    17.100\n",
       "2018-07-12 00:00:00+00:00    17.300\n",
       "2018-07-13 00:00:00+00:00    17.380\n",
       "2018-07-16 00:00:00+00:00    19.200\n",
       "2018-07-17 00:00:00+00:00    19.250\n",
       "2018-07-18 00:00:00+00:00    19.690\n",
       "2018-07-19 00:00:00+00:00    19.170\n",
       "2018-07-20 00:00:00+00:00    19.025\n",
       "2018-07-23 00:00:00+00:00    18.990\n",
       "2018-07-24 00:00:00+00:00    19.430\n",
       "Freq: C, Name: Equity(2 [ARNC]), dtype: float64"
      ]
     },
     "execution_count": 13,
     "metadata": {},
     "output_type": "execute_result"
    }
   ],
   "source": [
    "# Select a time range to inspect\n",
    "period_start = '2018-07-11'\n",
    "period_end = '2018-07-24'\n",
    "\n",
    "stock = 'ARNC'\n",
    "# Query returns data for AAPL\n",
    "# over the selected time range\n",
    "\n",
    "stock_prices = prices(\n",
    "    assets=symbols(stock),\n",
    "    start=period_start,\n",
    "    end=period_end,\n",
    ")\n",
    "stock_returns = returns(\n",
    "    assets=symbols(stock),\n",
    "    start=period_start,\n",
    "    end=period_end,\n",
    ")\n",
    "\n",
    "# Display first 10 rows\n",
    "stock_prices.head(10)"
   ]
  },
  {
   "cell_type": "code",
   "execution_count": 12,
   "metadata": {},
   "outputs": [
    {
     "data": {
      "text/plain": [
       "2018-07-11 00:00:00+00:00   -0.036620\n",
       "2018-07-12 00:00:00+00:00    0.011696\n",
       "2018-07-13 00:00:00+00:00    0.004624\n",
       "2018-07-16 00:00:00+00:00    0.104718\n",
       "2018-07-17 00:00:00+00:00    0.002604\n",
       "2018-07-18 00:00:00+00:00    0.022857\n",
       "2018-07-19 00:00:00+00:00   -0.026409\n",
       "2018-07-20 00:00:00+00:00   -0.007564\n",
       "2018-07-23 00:00:00+00:00   -0.001840\n",
       "2018-07-24 00:00:00+00:00    0.023170\n",
       "Freq: C, Name: Equity(2 [ARNC]), dtype: float64"
      ]
     },
     "execution_count": 12,
     "metadata": {},
     "output_type": "execute_result"
    }
   ],
   "source": [
    "stock_returns.head(10)"
   ]
  },
  {
   "cell_type": "code",
   "execution_count": null,
   "metadata": {},
   "outputs": [],
   "source": []
  }
 ],
 "metadata": {
  "kernelspec": {
   "display_name": "Python 2",
   "language": "python",
   "name": "python2"
  },
  "language_info": {
   "codemirror_mode": {
    "name": "ipython",
    "version": 2
   },
   "file_extension": ".py",
   "mimetype": "text/x-python",
   "name": "python",
   "nbconvert_exporter": "python",
   "pygments_lexer": "ipython2",
   "version": "2.7.12"
  }
 },
 "nbformat": 4,
 "nbformat_minor": 2
}
